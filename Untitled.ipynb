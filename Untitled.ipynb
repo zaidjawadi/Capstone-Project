{
 "cells": [
  {
   "cell_type": "code",
   "execution_count": null,
   "id": "f50498ba",
   "metadata": {},
   "outputs": [],
   "source": []
  },
  {
   "cell_type": "markdown",
   "id": "fd6fb666",
   "metadata": {},
   "source": [
    "## Table of Contents\n",
    " [Section 1](#section-1)\n",
    "  - [Subsection 1.1](#subsection-11)\n",
    "  - [Subsection 1.2](#subsection-12)\n",
    "- [Section 2](#section-2)\n",
    "  - [Subsection 2.1](#subsection-21)\n",
    "  - [Subsection 2.2](#subsection-22)"
   ]
  },
  {
   "cell_type": "code",
   "execution_count": null,
   "id": "96aaedec",
   "metadata": {},
   "outputs": [],
   "source": []
  }
 ],
 "metadata": {
  "kernelspec": {
   "display_name": "Python 3 (ipykernel)",
   "language": "python",
   "name": "python3"
  },
  "language_info": {
   "codemirror_mode": {
    "name": "ipython",
    "version": 3
   },
   "file_extension": ".py",
   "mimetype": "text/x-python",
   "name": "python",
   "nbconvert_exporter": "python",
   "pygments_lexer": "ipython3",
   "version": "3.11.5"
  },
  "toc": {
   "base_numbering": 1,
   "nav_menu": {},
   "number_sections": true,
   "sideBar": true,
   "skip_h1_title": false,
   "title_cell": "Table of Contents",
   "title_sidebar": "Contents",
   "toc_cell": false,
   "toc_position": {},
   "toc_section_display": true,
   "toc_window_display": false
  }
 },
 "nbformat": 4,
 "nbformat_minor": 5
}
